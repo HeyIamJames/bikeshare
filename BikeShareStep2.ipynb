{
 "cells": [
  {
   "cell_type": "markdown",
   "metadata": {},
   "source": [
    "1. Compute the average temperature by season ('season_desc'). (The temperatures are numbers between 0 and 1, but don't worry about that. Let's say that's the Shellman temperature scale.)"
   ]
  },
  {
   "cell_type": "code",
   "execution_count": 1,
   "metadata": {
    "collapsed": false
   },
   "outputs": [],
   "source": [
    "import pandas as pd\n",
    "import numpy as np\n",
    "from pandas import Series, DataFrame\n"
   ]
  },
  {
   "cell_type": "code",
   "execution_count": 2,
   "metadata": {
    "collapsed": false
   },
   "outputs": [],
   "source": [
    "weather = pd.read_table('daily_weather.tsv')\n"
   ]
  },
  {
   "cell_type": "code",
   "execution_count": 3,
   "metadata": {
    "collapsed": false,
    "scrolled": true
   },
   "outputs": [
    {
     "data": {
      "text/html": [
       "<div>\n",
       "<table border=\"1\" class=\"dataframe\">\n",
       "  <thead>\n",
       "    <tr style=\"text-align: right;\">\n",
       "      <th></th>\n",
       "      <th>temp</th>\n",
       "    </tr>\n",
       "    <tr>\n",
       "      <th>season_desc</th>\n",
       "      <th></th>\n",
       "    </tr>\n",
       "  </thead>\n",
       "  <tbody>\n",
       "    <tr>\n",
       "      <th>Fall</th>\n",
       "      <td>0.711445</td>\n",
       "    </tr>\n",
       "    <tr>\n",
       "      <th>Spring</th>\n",
       "      <td>0.321700</td>\n",
       "    </tr>\n",
       "    <tr>\n",
       "      <th>Summer</th>\n",
       "      <td>0.554557</td>\n",
       "    </tr>\n",
       "    <tr>\n",
       "      <th>Winter</th>\n",
       "      <td>0.419368</td>\n",
       "    </tr>\n",
       "  </tbody>\n",
       "</table>\n",
       "</div>"
      ],
      "text/plain": [
       "                 temp\n",
       "season_desc          \n",
       "Fall         0.711445\n",
       "Spring       0.321700\n",
       "Summer       0.554557\n",
       "Winter       0.419368"
      ]
     },
     "execution_count": 3,
     "metadata": {},
     "output_type": "execute_result"
    }
   ],
   "source": [
    "weather.groupby('season_desc').agg({'temp': np.mean})\n"
   ]
  },
  {
   "cell_type": "code",
   "execution_count": 4,
   "metadata": {
    "collapsed": false
   },
   "outputs": [],
   "source": [
    "fix = weather.replace(\"Fall\", \"Summer_\").replace(\"Summer\", \"Spring_\").replace(\"Winter\", \"Fall_\").replace(\"Spring\", \"Winter_\")"
   ]
  },
  {
   "cell_type": "code",
   "execution_count": 5,
   "metadata": {
    "collapsed": false
   },
   "outputs": [
    {
     "data": {
      "text/html": [
       "<div>\n",
       "<table border=\"1\" class=\"dataframe\">\n",
       "  <thead>\n",
       "    <tr style=\"text-align: right;\">\n",
       "      <th></th>\n",
       "      <th>temp</th>\n",
       "    </tr>\n",
       "    <tr>\n",
       "      <th>season_desc</th>\n",
       "      <th></th>\n",
       "    </tr>\n",
       "  </thead>\n",
       "  <tbody>\n",
       "    <tr>\n",
       "      <th>Fall</th>\n",
       "      <td>0.711445</td>\n",
       "    </tr>\n",
       "    <tr>\n",
       "      <th>Spring</th>\n",
       "      <td>0.321700</td>\n",
       "    </tr>\n",
       "    <tr>\n",
       "      <th>Summer</th>\n",
       "      <td>0.554557</td>\n",
       "    </tr>\n",
       "    <tr>\n",
       "      <th>Winter</th>\n",
       "      <td>0.419368</td>\n",
       "    </tr>\n",
       "  </tbody>\n",
       "</table>\n",
       "</div>"
      ],
      "text/plain": [
       "                 temp\n",
       "season_desc          \n",
       "Fall         0.711445\n",
       "Spring       0.321700\n",
       "Summer       0.554557\n",
       "Winter       0.419368"
      ]
     },
     "execution_count": 5,
     "metadata": {},
     "output_type": "execute_result"
    }
   ],
   "source": [
    "weather.groupby('season_desc').agg({'temp': np.mean})"
   ]
  },
  {
   "cell_type": "markdown",
   "metadata": {},
   "source": [
    "2. Various of the columns represent dates or datetimes, but out of the box pd.read_table won't treat them correctly. This makes it hard to (for example) compute the number of rentals by month. Fix the dates and compute the number of rentals by month."
   ]
  },
  {
   "cell_type": "code",
   "execution_count": 6,
   "metadata": {
    "collapsed": false
   },
   "outputs": [],
   "source": [
    "weather['months'] = pd.DatetimeIndex(weather.date).month\n"
   ]
  },
  {
   "cell_type": "code",
   "execution_count": 7,
   "metadata": {
    "collapsed": false,
    "scrolled": true
   },
   "outputs": [
    {
     "data": {
      "text/html": [
       "<div>\n",
       "<table border=\"1\" class=\"dataframe\">\n",
       "  <thead>\n",
       "    <tr style=\"text-align: right;\">\n",
       "      <th></th>\n",
       "      <th>total_riders</th>\n",
       "    </tr>\n",
       "    <tr>\n",
       "      <th>months</th>\n",
       "      <th></th>\n",
       "    </tr>\n",
       "  </thead>\n",
       "  <tbody>\n",
       "    <tr>\n",
       "      <th>1</th>\n",
       "      <td>96744</td>\n",
       "    </tr>\n",
       "    <tr>\n",
       "      <th>2</th>\n",
       "      <td>103137</td>\n",
       "    </tr>\n",
       "    <tr>\n",
       "      <th>3</th>\n",
       "      <td>164875</td>\n",
       "    </tr>\n",
       "    <tr>\n",
       "      <th>4</th>\n",
       "      <td>174224</td>\n",
       "    </tr>\n",
       "    <tr>\n",
       "      <th>5</th>\n",
       "      <td>195865</td>\n",
       "    </tr>\n",
       "    <tr>\n",
       "      <th>6</th>\n",
       "      <td>202830</td>\n",
       "    </tr>\n",
       "    <tr>\n",
       "      <th>7</th>\n",
       "      <td>203607</td>\n",
       "    </tr>\n",
       "    <tr>\n",
       "      <th>8</th>\n",
       "      <td>214503</td>\n",
       "    </tr>\n",
       "    <tr>\n",
       "      <th>9</th>\n",
       "      <td>218573</td>\n",
       "    </tr>\n",
       "    <tr>\n",
       "      <th>10</th>\n",
       "      <td>198841</td>\n",
       "    </tr>\n",
       "    <tr>\n",
       "      <th>11</th>\n",
       "      <td>152664</td>\n",
       "    </tr>\n",
       "    <tr>\n",
       "      <th>12</th>\n",
       "      <td>123713</td>\n",
       "    </tr>\n",
       "  </tbody>\n",
       "</table>\n",
       "</div>"
      ],
      "text/plain": [
       "        total_riders\n",
       "months              \n",
       "1              96744\n",
       "2             103137\n",
       "3             164875\n",
       "4             174224\n",
       "5             195865\n",
       "6             202830\n",
       "7             203607\n",
       "8             214503\n",
       "9             218573\n",
       "10            198841\n",
       "11            152664\n",
       "12            123713"
      ]
     },
     "execution_count": 7,
     "metadata": {},
     "output_type": "execute_result"
    }
   ],
   "source": [
    "weather.groupby('months').agg({'total_riders': np.sum})\n"
   ]
  },
  {
   "cell_type": "markdown",
   "metadata": {},
   "source": []
  },
  {
   "cell_type": "markdown",
   "metadata": {
    "collapsed": false
   },
   "source": [
    "weather[['total_riders', 'temp']].corr()\n"
   ]
  },
  {
   "cell_type": "markdown",
   "metadata": {},
   "source": [
    "3.Investigate how the number of rentals varies with temperature. Is this trend constant across seasons? Across months?"
   ]
  },
  {
   "cell_type": "code",
   "execution_count": 23,
   "metadata": {
    "collapsed": false,
    "scrolled": true
   },
   "outputs": [
    {
     "data": {
      "text/html": [
       "<div>\n",
       "<table border=\"1\" class=\"dataframe\">\n",
       "  <thead>\n",
       "    <tr style=\"text-align: right;\">\n",
       "      <th></th>\n",
       "      <th></th>\n",
       "      <th>temp</th>\n",
       "      <th>total_riders</th>\n",
       "    </tr>\n",
       "    <tr>\n",
       "      <th>months</th>\n",
       "      <th></th>\n",
       "      <th></th>\n",
       "      <th></th>\n",
       "    </tr>\n",
       "  </thead>\n",
       "  <tbody>\n",
       "    <tr>\n",
       "      <th rowspan=\"2\" valign=\"top\">1</th>\n",
       "      <th>temp</th>\n",
       "      <td>1.000000</td>\n",
       "      <td>0.689495</td>\n",
       "    </tr>\n",
       "    <tr>\n",
       "      <th>total_riders</th>\n",
       "      <td>0.689495</td>\n",
       "      <td>1.000000</td>\n",
       "    </tr>\n",
       "    <tr>\n",
       "      <th rowspan=\"2\" valign=\"top\">2</th>\n",
       "      <th>temp</th>\n",
       "      <td>1.000000</td>\n",
       "      <td>0.716206</td>\n",
       "    </tr>\n",
       "    <tr>\n",
       "      <th>total_riders</th>\n",
       "      <td>0.716206</td>\n",
       "      <td>1.000000</td>\n",
       "    </tr>\n",
       "    <tr>\n",
       "      <th rowspan=\"2\" valign=\"top\">3</th>\n",
       "      <th>temp</th>\n",
       "      <td>1.000000</td>\n",
       "      <td>0.735575</td>\n",
       "    </tr>\n",
       "    <tr>\n",
       "      <th>total_riders</th>\n",
       "      <td>0.735575</td>\n",
       "      <td>1.000000</td>\n",
       "    </tr>\n",
       "    <tr>\n",
       "      <th rowspan=\"2\" valign=\"top\">4</th>\n",
       "      <th>temp</th>\n",
       "      <td>1.000000</td>\n",
       "      <td>0.533387</td>\n",
       "    </tr>\n",
       "    <tr>\n",
       "      <th>total_riders</th>\n",
       "      <td>0.533387</td>\n",
       "      <td>1.000000</td>\n",
       "    </tr>\n",
       "    <tr>\n",
       "      <th rowspan=\"2\" valign=\"top\">5</th>\n",
       "      <th>temp</th>\n",
       "      <td>1.000000</td>\n",
       "      <td>0.065599</td>\n",
       "    </tr>\n",
       "    <tr>\n",
       "      <th>total_riders</th>\n",
       "      <td>0.065599</td>\n",
       "      <td>1.000000</td>\n",
       "    </tr>\n",
       "    <tr>\n",
       "      <th rowspan=\"2\" valign=\"top\">6</th>\n",
       "      <th>temp</th>\n",
       "      <td>1.000000</td>\n",
       "      <td>-0.330884</td>\n",
       "    </tr>\n",
       "    <tr>\n",
       "      <th>total_riders</th>\n",
       "      <td>-0.330884</td>\n",
       "      <td>1.000000</td>\n",
       "    </tr>\n",
       "    <tr>\n",
       "      <th rowspan=\"2\" valign=\"top\">7</th>\n",
       "      <th>temp</th>\n",
       "      <td>1.000000</td>\n",
       "      <td>-0.184704</td>\n",
       "    </tr>\n",
       "    <tr>\n",
       "      <th>total_riders</th>\n",
       "      <td>-0.184704</td>\n",
       "      <td>1.000000</td>\n",
       "    </tr>\n",
       "    <tr>\n",
       "      <th rowspan=\"2\" valign=\"top\">8</th>\n",
       "      <th>temp</th>\n",
       "      <td>1.000000</td>\n",
       "      <td>0.288264</td>\n",
       "    </tr>\n",
       "    <tr>\n",
       "      <th>total_riders</th>\n",
       "      <td>0.288264</td>\n",
       "      <td>1.000000</td>\n",
       "    </tr>\n",
       "    <tr>\n",
       "      <th rowspan=\"2\" valign=\"top\">9</th>\n",
       "      <th>temp</th>\n",
       "      <td>1.000000</td>\n",
       "      <td>-0.418753</td>\n",
       "    </tr>\n",
       "    <tr>\n",
       "      <th>total_riders</th>\n",
       "      <td>-0.418753</td>\n",
       "      <td>1.000000</td>\n",
       "    </tr>\n",
       "    <tr>\n",
       "      <th rowspan=\"2\" valign=\"top\">10</th>\n",
       "      <th>temp</th>\n",
       "      <td>1.000000</td>\n",
       "      <td>0.466666</td>\n",
       "    </tr>\n",
       "    <tr>\n",
       "      <th>total_riders</th>\n",
       "      <td>0.466666</td>\n",
       "      <td>1.000000</td>\n",
       "    </tr>\n",
       "    <tr>\n",
       "      <th rowspan=\"2\" valign=\"top\">11</th>\n",
       "      <th>temp</th>\n",
       "      <td>1.000000</td>\n",
       "      <td>0.511232</td>\n",
       "    </tr>\n",
       "    <tr>\n",
       "      <th>total_riders</th>\n",
       "      <td>0.511232</td>\n",
       "      <td>1.000000</td>\n",
       "    </tr>\n",
       "    <tr>\n",
       "      <th rowspan=\"2\" valign=\"top\">12</th>\n",
       "      <th>temp</th>\n",
       "      <td>1.000000</td>\n",
       "      <td>0.690062</td>\n",
       "    </tr>\n",
       "    <tr>\n",
       "      <th>total_riders</th>\n",
       "      <td>0.690062</td>\n",
       "      <td>1.000000</td>\n",
       "    </tr>\n",
       "  </tbody>\n",
       "</table>\n",
       "</div>"
      ],
      "text/plain": [
       "                         temp  total_riders\n",
       "months                                     \n",
       "1      temp          1.000000      0.689495\n",
       "       total_riders  0.689495      1.000000\n",
       "2      temp          1.000000      0.716206\n",
       "       total_riders  0.716206      1.000000\n",
       "3      temp          1.000000      0.735575\n",
       "       total_riders  0.735575      1.000000\n",
       "4      temp          1.000000      0.533387\n",
       "       total_riders  0.533387      1.000000\n",
       "5      temp          1.000000      0.065599\n",
       "       total_riders  0.065599      1.000000\n",
       "6      temp          1.000000     -0.330884\n",
       "       total_riders -0.330884      1.000000\n",
       "7      temp          1.000000     -0.184704\n",
       "       total_riders -0.184704      1.000000\n",
       "8      temp          1.000000      0.288264\n",
       "       total_riders  0.288264      1.000000\n",
       "9      temp          1.000000     -0.418753\n",
       "       total_riders -0.418753      1.000000\n",
       "10     temp          1.000000      0.466666\n",
       "       total_riders  0.466666      1.000000\n",
       "11     temp          1.000000      0.511232\n",
       "       total_riders  0.511232      1.000000\n",
       "12     temp          1.000000      0.690062\n",
       "       total_riders  0.690062      1.000000"
      ]
     },
     "execution_count": 23,
     "metadata": {},
     "output_type": "execute_result"
    }
   ],
   "source": [
    "weather[['total_riders', 'temp', 'months']].groupby('months').corr()\n"
   ]
  },
  {
   "cell_type": "markdown",
   "metadata": {
    "collapsed": true
   },
   "source": [
    "weather[['total_riders', 'temp', 'season_desc']].groupby('season_desc').corr()\n"
   ]
  },
  {
   "cell_type": "code",
   "execution_count": 9,
   "metadata": {
    "collapsed": false
   },
   "outputs": [
    {
     "data": {
      "text/html": [
       "<div>\n",
       "<table border=\"1\" class=\"dataframe\">\n",
       "  <thead>\n",
       "    <tr style=\"text-align: right;\">\n",
       "      <th></th>\n",
       "      <th>no_casual_riders</th>\n",
       "      <th>no_reg_riders</th>\n",
       "      <th>temp</th>\n",
       "    </tr>\n",
       "  </thead>\n",
       "  <tbody>\n",
       "    <tr>\n",
       "      <th>no_casual_riders</th>\n",
       "      <td>1.000000</td>\n",
       "      <td>0.274984</td>\n",
       "      <td>0.542253</td>\n",
       "    </tr>\n",
       "    <tr>\n",
       "      <th>no_reg_riders</th>\n",
       "      <td>0.274984</td>\n",
       "      <td>1.000000</td>\n",
       "      <td>0.607425</td>\n",
       "    </tr>\n",
       "    <tr>\n",
       "      <th>temp</th>\n",
       "      <td>0.542253</td>\n",
       "      <td>0.607425</td>\n",
       "      <td>1.000000</td>\n",
       "    </tr>\n",
       "  </tbody>\n",
       "</table>\n",
       "</div>"
      ],
      "text/plain": [
       "                  no_casual_riders  no_reg_riders      temp\n",
       "no_casual_riders          1.000000       0.274984  0.542253\n",
       "no_reg_riders             0.274984       1.000000  0.607425\n",
       "temp                      0.542253       0.607425  1.000000"
      ]
     },
     "execution_count": 9,
     "metadata": {},
     "output_type": "execute_result"
    }
   ],
   "source": [
    "weather[['no_casual_riders', 'no_reg_riders', 'temp']].corr()\n"
   ]
  },
  {
   "cell_type": "markdown",
   "metadata": {
    "collapsed": false
   },
   "source": [
    "4.There are various types of users in the usage data sets. What sorts of things can you say about how they use the bikes differently?"
   ]
  },
  {
   "cell_type": "code",
   "execution_count": 10,
   "metadata": {
    "collapsed": false
   },
   "outputs": [
    {
     "data": {
      "text/html": [
       "<div>\n",
       "<table border=\"1\" class=\"dataframe\">\n",
       "  <thead>\n",
       "    <tr style=\"text-align: right;\">\n",
       "      <th></th>\n",
       "      <th>no_casual_riders</th>\n",
       "      <th>no_reg_riders</th>\n",
       "    </tr>\n",
       "  </thead>\n",
       "  <tbody>\n",
       "    <tr>\n",
       "      <th>no_casual_riders</th>\n",
       "      <td>1.000000</td>\n",
       "      <td>0.274984</td>\n",
       "    </tr>\n",
       "    <tr>\n",
       "      <th>no_reg_riders</th>\n",
       "      <td>0.274984</td>\n",
       "      <td>1.000000</td>\n",
       "    </tr>\n",
       "  </tbody>\n",
       "</table>\n",
       "</div>"
      ],
      "text/plain": [
       "                  no_casual_riders  no_reg_riders\n",
       "no_casual_riders          1.000000       0.274984\n",
       "no_reg_riders             0.274984       1.000000"
      ]
     },
     "execution_count": 10,
     "metadata": {},
     "output_type": "execute_result"
    }
   ],
   "source": [
    "weather[['no_casual_riders', 'no_reg_riders']].corr()\n"
   ]
  },
  {
   "cell_type": "code",
   "execution_count": 11,
   "metadata": {
    "collapsed": false
   },
   "outputs": [
    {
     "data": {
      "text/plain": [
       "is_holiday           11\n",
       "total_riders    2049576\n",
       "dtype: int64"
      ]
     },
     "execution_count": 11,
     "metadata": {},
     "output_type": "execute_result"
    }
   ],
   "source": [
    "weather[['is_holiday', 'total_riders']].sum()\n"
   ]
  },
  {
   "cell_type": "code",
   "execution_count": 12,
   "metadata": {
    "collapsed": false
   },
   "outputs": [
    {
     "data": {
      "text/html": [
       "<div>\n",
       "<table border=\"1\" class=\"dataframe\">\n",
       "  <thead>\n",
       "    <tr style=\"text-align: right;\">\n",
       "      <th></th>\n",
       "      <th>is_holiday</th>\n",
       "      <th>total_riders</th>\n",
       "    </tr>\n",
       "  </thead>\n",
       "  <tbody>\n",
       "    <tr>\n",
       "      <th>is_holiday</th>\n",
       "      <td>1.000000</td>\n",
       "      <td>-0.118134</td>\n",
       "    </tr>\n",
       "    <tr>\n",
       "      <th>total_riders</th>\n",
       "      <td>-0.118134</td>\n",
       "      <td>1.000000</td>\n",
       "    </tr>\n",
       "  </tbody>\n",
       "</table>\n",
       "</div>"
      ],
      "text/plain": [
       "              is_holiday  total_riders\n",
       "is_holiday      1.000000     -0.118134\n",
       "total_riders   -0.118134      1.000000"
      ]
     },
     "execution_count": 12,
     "metadata": {},
     "output_type": "execute_result"
    }
   ],
   "source": [
    "weather[['is_holiday', 'total_riders']].corr()"
   ]
  },
  {
   "cell_type": "code",
   "execution_count": null,
   "metadata": {
    "collapsed": true
   },
   "outputs": [],
   "source": []
  },
  {
   "cell_type": "markdown",
   "metadata": {
    "collapsed": true
   },
   "source": [
    "Part 2"
   ]
  },
  {
   "cell_type": "code",
   "execution_count": 13,
   "metadata": {
    "collapsed": true
   },
   "outputs": [],
   "source": [
    "import matplotlib.pyplot as plt\n"
   ]
  },
  {
   "cell_type": "code",
   "execution_count": 14,
   "metadata": {
    "collapsed": true
   },
   "outputs": [],
   "source": [
    "%matplotlib inline"
   ]
  },
  {
   "cell_type": "markdown",
   "metadata": {
    "collapsed": true
   },
   "source": [
    "1. Plot the daily temperature over the course of the year. (This should probably be a line chart.) Create a bar chart that shows the average temperature and humidity by month."
   ]
  },
  {
   "cell_type": "code",
   "execution_count": 16,
   "metadata": {
    "collapsed": true
   },
   "outputs": [],
   "source": []
  },
  {
   "cell_type": "code",
   "execution_count": null,
   "metadata": {
    "collapsed": false
   },
   "outputs": [],
   "source": []
  },
  {
   "cell_type": "code",
   "execution_count": 71,
   "metadata": {
    "collapsed": false
   },
   "outputs": [
    {
     "data": {
      "image/png": "[encoded data removed]",
      "text/plain": [
       "<matplotlib.figure.Figure at 0x10a21e2d0>"
      ]
     },
     "metadata": {},
     "output_type": "display_data"
    }
   ],
   "source": [
    "plt.plot(weather['months'], weather['temp'])\n",
    "plt.xlabel(\"This is just an x-axis\")\n",
    "plt.ylabel(\"This is just a y-axis\")\n",
    "plt.show()"
   ]
  },
  {
   "cell_type": "code",
   "execution_count": 90,
   "metadata": {
    "collapsed": false,
    "scrolled": true
   },
   "outputs": [],
   "source": [
    "x = weather.groupby('months').agg({\"humidity\":np.mean})"
   ]
  },
  {
   "cell_type": "code",
   "execution_count": 94,
   "metadata": {
    "collapsed": false
   },
   "outputs": [
    {
     "data": {
      "image/png": "[encoded data removed]",
      "text/plain": [
       "<matplotlib.figure.Figure at 0x103603dd0>"
      ]
     },
     "metadata": {},
     "output_type": "display_data"
    }
   ],
   "source": [
    "plt.bar([n for n in range(1, 13)], x['humidity'])\n",
    "plt.title(\"weather and humidity by months\")\n",
    "plt.show()"
   ]
  },
  {
   "cell_type": "markdown",
   "metadata": {},
   "source": [
    "2. Use a scatterplot to show how the daily rental volume varies with temperature. Use a different series (with different colors) for each season."
   ]
  },
  {
   "cell_type": "code",
   "execution_count": 35,
   "metadata": {
    "collapsed": false
   },
   "outputs": [
    {
     "data": {
      "image/png": "[encoded data removed]",
      "text/plain": [
       "<matplotlib.figure.Figure at 0x1076d9250>"
      ]
     },
     "metadata": {},
     "output_type": "display_data"
    }
   ],
   "source": [
    "xs = range(10)\n",
    "plt.scatter(xs, 5 * np.random.rand(10) + xs, color='r', marker='*', label='series1')\n",
    "plt.scatter(xs, 5 * np.random.rand(10) + xs, color='g', marker='o', label='series2')\n",
    "plt.title(\"A scatterplot with two series\")\n",
    "plt.legend(loc=9)\n",
    "plt.show()"
   ]
  },
  {
   "cell_type": "code",
   "execution_count": 159,
   "metadata": {
    "collapsed": false
   },
   "outputs": [
    {
     "data": {
      "image/png": "[encoded data removed]",
      "text/plain": [
       "<matplotlib.figure.Figure at 0x10716de10>"
      ]
     },
     "metadata": {},
     "output_type": "display_data"
    }
   ],
   "source": [
    "w = weather[['season_desc', 'temp', 'total_riders']]\n",
    "fall = w.loc[w['season_desc'] == 'Fall']\n",
    "winter = w.loc[w['season_desc'] == 'Winter']\n",
    "spring = w.loc[w['season_desc'] == 'Spring']\n",
    "summer = w.loc[w['season_desc'] == 'Summer']\n",
    "\n",
    "plt.scatter(fall['temp'], fall['total_riders'], color='orange', marker='^', label='fall', s=100, alpha=.41)\n",
    "plt.scatter(winter['temp'], winter['total_riders'], color='blue', marker='*', label='winter', s=100, alpha=.41)\n",
    "plt.scatter(spring['temp'], spring['total_riders'], color='purple', marker='d', label='spring', s=100, alpha=.41)\n",
    "plt.scatter(summer['temp'], summer['total_riders'], color='red', marker='o', label='summer', s=100, alpha=.41)\n",
    "\n",
    "plt.legend(loc='lower right')\n",
    "plt.xlabel('temperature')\n",
    "plt.ylabel('rental volume')\n",
    "plt.show()"
   ]
  },
  {
   "cell_type": "markdown",
   "metadata": {},
   "source": [
    "Create another scatterplot to show how daily rental volume varies with windspeed.  As above, use a different series for each season."
   ]
  },
  {
   "cell_type": "code",
   "execution_count": 81,
   "metadata": {
    "collapsed": false
   },
   "outputs": [],
   "source": []
  },
  {
   "cell_type": "code",
   "execution_count": 84,
   "metadata": {
    "collapsed": false
   },
   "outputs": [],
   "source": []
  },
  {
   "cell_type": "code",
   "execution_count": 174,
   "metadata": {
    "collapsed": false
   },
   "outputs": [
    {
     "data": {
      "text/plain": [
       "<matplotlib.text.Text at 0x1086c0dd0>"
      ]
     },
     "execution_count": 174,
     "metadata": {},
     "output_type": "execute_result"
    },
    {
     "data": {
      "image/png": "[encoded data removed]",
      "text/plain": [
       "<matplotlib.figure.Figure at 0x108238110>"
      ]
     },
     "metadata": {},
     "output_type": "display_data"
    }
   ],
   "source": [
    "w = weather[['season_desc', 'windspeed', 'total_riders']]\n",
    "fall = w.loc[w['season_desc'] == 'Fall']\n",
    "winter = w.loc[w['season_desc'] == 'Winter']\n",
    "spring = w.loc[w['season_desc'] == 'Spring']\n",
    "summer = w.loc[w['season_desc'] == 'Summer']\n",
    "\n",
    "plt.scatter(fall['windspeed'], fall['total_riders'], color='orange', marker='^', label='fall', s=100, alpha=.41)\n",
    "plt.scatter(winter['windspeed'], winter['total_riders'], color='blue', marker='*', label='winter', s=100, alpha=.41)\n",
    "plt.scatter(spring['windspeed'], spring['total_riders'], color='purple', marker='d', label='spring', s=100, alpha=.41)\n",
    "plt.scatter(summer['windspeed'], summer['total_riders'], color='red', marker='o', label='summer', s=100, alpha=.41)\n",
    "\n",
    "plt.legend(loc='lower right')\n",
    "plt.xlabel('windspeed x1000 mph')\n",
    "plt.ylabel('rental volume')"
   ]
  },
  {
   "cell_type": "markdown",
   "metadata": {},
   "source": [
    "\n",
    "4. How do the rental volumes vary with geography? Compute the average daily rentals for each station and use this as the radius for a scatterplot of each station's latitude and longitude.\n"
   ]
  },
  {
   "cell_type": "code",
   "execution_count": 151,
   "metadata": {
    "collapsed": false
   },
   "outputs": [],
   "source": [
    "usage = pd.read_table('usage_2012.tsv')"
   ]
  },
  {
   "cell_type": "code",
   "execution_count": 153,
   "metadata": {
    "collapsed": true
   },
   "outputs": [],
   "source": [
    "stations = pd.read_table('stations.tsv')"
   ]
  },
  {
   "cell_type": "code",
   "execution_count": 162,
   "metadata": {
    "collapsed": false
   },
   "outputs": [
    {
     "data": {
      "text/html": [
       "<div>\n",
       "<table border=\"1\" class=\"dataframe\">\n",
       "  <thead>\n",
       "    <tr style=\"text-align: right;\">\n",
       "      <th></th>\n",
       "      <th>id</th>\n",
       "      <th>station</th>\n",
       "      <th>terminal_name</th>\n",
       "      <th>lat</th>\n",
       "      <th>long</th>\n",
       "      <th>no_bikes</th>\n",
       "      <th>no_empty_docks</th>\n",
       "      <th>fast_food</th>\n",
       "      <th>parking</th>\n",
       "      <th>restaurant</th>\n",
       "      <th>...</th>\n",
       "      <th>museum</th>\n",
       "      <th>sculpture</th>\n",
       "      <th>hostel</th>\n",
       "      <th>picnic_site</th>\n",
       "      <th>tour_guide</th>\n",
       "      <th>attraction</th>\n",
       "      <th>landmark</th>\n",
       "      <th>motel</th>\n",
       "      <th>guest_house</th>\n",
       "      <th>gallery</th>\n",
       "    </tr>\n",
       "  </thead>\n",
       "  <tbody>\n",
       "    <tr>\n",
       "      <th>0</th>\n",
       "      <td>1</td>\n",
       "      <td>20th &amp; Bell St</td>\n",
       "      <td>31000</td>\n",
       "      <td>38.856100</td>\n",
       "      <td>-77.051200</td>\n",
       "      <td>7</td>\n",
       "      <td>4</td>\n",
       "      <td>0</td>\n",
       "      <td>0</td>\n",
       "      <td>0</td>\n",
       "      <td>...</td>\n",
       "      <td>0</td>\n",
       "      <td>0</td>\n",
       "      <td>0</td>\n",
       "      <td>0</td>\n",
       "      <td>0</td>\n",
       "      <td>0</td>\n",
       "      <td>0</td>\n",
       "      <td>0</td>\n",
       "      <td>0</td>\n",
       "      <td>0</td>\n",
       "    </tr>\n",
       "    <tr>\n",
       "      <th>1</th>\n",
       "      <td>2</td>\n",
       "      <td>18th &amp; Eads St.</td>\n",
       "      <td>31001</td>\n",
       "      <td>38.857250</td>\n",
       "      <td>-77.053320</td>\n",
       "      <td>6</td>\n",
       "      <td>4</td>\n",
       "      <td>0</td>\n",
       "      <td>0</td>\n",
       "      <td>0</td>\n",
       "      <td>...</td>\n",
       "      <td>0</td>\n",
       "      <td>0</td>\n",
       "      <td>0</td>\n",
       "      <td>0</td>\n",
       "      <td>0</td>\n",
       "      <td>0</td>\n",
       "      <td>0</td>\n",
       "      <td>0</td>\n",
       "      <td>0</td>\n",
       "      <td>0</td>\n",
       "    </tr>\n",
       "    <tr>\n",
       "      <th>2</th>\n",
       "      <td>3</td>\n",
       "      <td>20th &amp; Crystal Dr</td>\n",
       "      <td>31002</td>\n",
       "      <td>38.856400</td>\n",
       "      <td>-77.049200</td>\n",
       "      <td>9</td>\n",
       "      <td>6</td>\n",
       "      <td>0</td>\n",
       "      <td>0</td>\n",
       "      <td>0</td>\n",
       "      <td>...</td>\n",
       "      <td>0</td>\n",
       "      <td>0</td>\n",
       "      <td>0</td>\n",
       "      <td>0</td>\n",
       "      <td>0</td>\n",
       "      <td>0</td>\n",
       "      <td>0</td>\n",
       "      <td>0</td>\n",
       "      <td>0</td>\n",
       "      <td>0</td>\n",
       "    </tr>\n",
       "    <tr>\n",
       "      <th>3</th>\n",
       "      <td>4</td>\n",
       "      <td>15th &amp; Crystal Dr</td>\n",
       "      <td>31003</td>\n",
       "      <td>38.860170</td>\n",
       "      <td>-77.049593</td>\n",
       "      <td>4</td>\n",
       "      <td>6</td>\n",
       "      <td>0</td>\n",
       "      <td>0</td>\n",
       "      <td>0</td>\n",
       "      <td>...</td>\n",
       "      <td>0</td>\n",
       "      <td>0</td>\n",
       "      <td>0</td>\n",
       "      <td>0</td>\n",
       "      <td>0</td>\n",
       "      <td>0</td>\n",
       "      <td>0</td>\n",
       "      <td>0</td>\n",
       "      <td>0</td>\n",
       "      <td>0</td>\n",
       "    </tr>\n",
       "    <tr>\n",
       "      <th>4</th>\n",
       "      <td>5</td>\n",
       "      <td>Aurora Hills Community Ctr/18th &amp; Hayes St</td>\n",
       "      <td>31004</td>\n",
       "      <td>38.857866</td>\n",
       "      <td>-77.059490</td>\n",
       "      <td>5</td>\n",
       "      <td>5</td>\n",
       "      <td>0</td>\n",
       "      <td>0</td>\n",
       "      <td>0</td>\n",
       "      <td>...</td>\n",
       "      <td>0</td>\n",
       "      <td>0</td>\n",
       "      <td>0</td>\n",
       "      <td>0</td>\n",
       "      <td>0</td>\n",
       "      <td>0</td>\n",
       "      <td>0</td>\n",
       "      <td>0</td>\n",
       "      <td>0</td>\n",
       "      <td>0</td>\n",
       "    </tr>\n",
       "  </tbody>\n",
       "</table>\n",
       "<p>5 rows × 136 columns</p>\n",
       "</div>"
      ],
      "text/plain": [
       "   id                                     station  terminal_name        lat  \\\n",
       "0   1                              20th & Bell St          31000  38.856100   \n",
       "1   2                             18th & Eads St.          31001  38.857250   \n",
       "2   3                           20th & Crystal Dr          31002  38.856400   \n",
       "3   4                           15th & Crystal Dr          31003  38.860170   \n",
       "4   5  Aurora Hills Community Ctr/18th & Hayes St          31004  38.857866   \n",
       "\n",
       "        long  no_bikes  no_empty_docks  fast_food  parking  restaurant  \\\n",
       "0 -77.051200         7               4          0        0           0   \n",
       "1 -77.053320         6               4          0        0           0   \n",
       "2 -77.049200         9               6          0        0           0   \n",
       "3 -77.049593         4               6          0        0           0   \n",
       "4 -77.059490         5               5          0        0           0   \n",
       "\n",
       "    ...     museum  sculpture  hostel  picnic_site  tour_guide  attraction  \\\n",
       "0   ...          0          0       0            0           0           0   \n",
       "1   ...          0          0       0            0           0           0   \n",
       "2   ...          0          0       0            0           0           0   \n",
       "3   ...          0          0       0            0           0           0   \n",
       "4   ...          0          0       0            0           0           0   \n",
       "\n",
       "   landmark  motel  guest_house  gallery  \n",
       "0         0      0            0        0  \n",
       "1         0      0            0        0  \n",
       "2         0      0            0        0  \n",
       "3         0      0            0        0  \n",
       "4         0      0            0        0  \n",
       "\n",
       "[5 rows x 136 columns]"
      ]
     },
     "execution_count": 162,
     "metadata": {},
     "output_type": "execute_result"
    }
   ],
   "source": [
    "stations.head()"
   ]
  },
  {
   "cell_type": "code",
   "execution_count": null,
   "metadata": {
    "collapsed": false
   },
   "outputs": [],
   "source": [
    "\n"
   ]
  },
  {
   "cell_type": "code",
   "execution_count": null,
   "metadata": {
    "collapsed": false
   },
   "outputs": [],
   "source": []
  },
  {
   "cell_type": "code",
   "execution_count": null,
   "metadata": {
    "collapsed": true
   },
   "outputs": [],
   "source": []
  }
 ],
 "metadata": {
  "kernelspec": {
   "display_name": "Python 2",
   "language": "python",
   "name": "python2"
  },
  "language_info": {
   "codemirror_mode": {
    "name": "ipython",
    "version": 2
   },
   "file_extension": ".py",
   "mimetype": "text/x-python",
   "name": "python",
   "nbconvert_exporter": "python",
   "pygments_lexer": "ipython2",
   "version": "2.7.8"
  }
 },
 "nbformat": 4,
 "nbformat_minor": 0
}
